{
 "cells": [
  {
   "cell_type": "code",
   "execution_count": null,
   "metadata": {},
   "outputs": [],
   "source": [
    "from koch_nb_helpers import *"
   ]
  },
  {
   "cell_type": "markdown",
   "metadata": {},
   "source": [
    "## Using this notebook\n",
    "\n",
    "Download this notebook and the file \"koch_nb_helpers\" and keep them in the same location. Then go through this notebook cell by cell. If you don't want to do an exercise or are having trouble with it, skip ahead to the solution.\n",
    "\n",
    "# Learning Recursion in Python: The Koch Curve\n",
    "\n",
    "by Sagar Roy\n",
    "\n",
    "Recursion is when an idea or procedure contains itself.\n",
    "\n",
    "Recursion is a concept that shows up in many places, mainly in math and programming. One example of recursion that is easy to see is the Koch Curve."
   ]
  },
  {
   "cell_type": "markdown",
   "metadata": {},
   "source": [
    "#### Window Management\n",
    "\n",
    "Put this notebook in the left half of your screen. While you're using the notebook, another window will pop up with the shapes we make. Put that on the right half of your screen."
   ]
  },
  {
   "cell_type": "markdown",
   "metadata": {
    "scrolled": true
   },
   "source": [
    "## Turtle Review\n",
    "\n",
    "Before we can learn about the Koch Curve, we have to learn about the turtle library in python. The turtle library lets you draw shapes using python. To learn about the Koch curve, we have to know the very basics of how to use the turtle library.\n",
    "\n",
    "The turtle library starts by having a \"turtle\" in the middle of a blank white screen. You can tell the turtle to move, and wherever it moves it draws a path. For example, you can tell the turtle to move forward a certain distance using fd. In the next box, I move the turtle forward by 300 pixels."
   ]
  },
  {
   "cell_type": "code",
   "execution_count": null,
   "metadata": {},
   "outputs": [],
   "source": [
    "fd(300)"
   ]
  },
  {
   "cell_type": "markdown",
   "metadata": {},
   "source": [
    "You can also tell the turtle to turn right or left. To turn right, use rt. To turn left, use lt. In the next cell, I turn the turtle left by 90 degrees."
   ]
  },
  {
   "cell_type": "code",
   "execution_count": null,
   "metadata": {},
   "outputs": [],
   "source": [
    "lt(90)"
   ]
  },
  {
   "cell_type": "markdown",
   "metadata": {},
   "source": [
    "Because the turtle doesn't move anywhere when it turns, nothing is drawn. But what do you think happens when we tell it to go forward now?"
   ]
  },
  {
   "cell_type": "code",
   "execution_count": null,
   "metadata": {},
   "outputs": [],
   "source": [
    "fd(300)"
   ]
  },
  {
   "cell_type": "markdown",
   "metadata": {},
   "source": [
    "### Exercise: Use the turtle to draw the rest of the square we started\n",
    "\n",
    "We just drew two sides of a square! Think about how we could draw the other two. Type your answer below and see if it works!"
   ]
  },
  {
   "cell_type": "code",
   "execution_count": null,
   "metadata": {},
   "outputs": [],
   "source": []
  },
  {
   "cell_type": "markdown",
   "metadata": {},
   "source": [
    "The solution is below. If you have your own solution, skip the cell below by pressing the down arrow on the toolbar above.\n",
    "\n",
    "#### Solution"
   ]
  },
  {
   "cell_type": "code",
   "execution_count": null,
   "metadata": {
    "code_folding": [
     0
    ]
   },
   "outputs": [],
   "source": [
    "#The solution\n",
    "lt(90)\n",
    "fd(300)\n",
    "lt(90)\n",
    "fd(300)"
   ]
  },
  {
   "cell_type": "markdown",
   "metadata": {},
   "source": [
    "If you made a mistake above and made a shape other than a square, you can use the \"reset\" function. This returns everything back to how it was before the drawing started."
   ]
  },
  {
   "cell_type": "code",
   "execution_count": null,
   "metadata": {},
   "outputs": [],
   "source": [
    "reset()"
   ]
  },
  {
   "cell_type": "markdown",
   "metadata": {},
   "source": [
    "We'll be using this whenever we want to start a new drawing."
   ]
  },
  {
   "cell_type": "markdown",
   "metadata": {},
   "source": [
    "## Koch Curve\n",
    "\n",
    "The Koch Curve isn't actually one specific curve, but actually a sequence of infinitely many different shapes that are related to one another. There is a pattern to the Koch Curves which you might notice after seeing some examples. The first three Koch curves are below. Run the code and try to determine what the pattern is."
   ]
  },
  {
   "cell_type": "code",
   "execution_count": null,
   "metadata": {
    "code_folding": [
     0
    ]
   },
   "outputs": [],
   "source": [
    "#Koch Curve 0\n",
    "reset()\n",
    "koch0()"
   ]
  },
  {
   "cell_type": "code",
   "execution_count": null,
   "metadata": {
    "code_folding": [
     0
    ]
   },
   "outputs": [],
   "source": [
    "#Koch Curve 1\n",
    "reset()\n",
    "koch1()"
   ]
  },
  {
   "cell_type": "code",
   "execution_count": null,
   "metadata": {
    "code_folding": [
     0
    ]
   },
   "outputs": [],
   "source": [
    "#Koch Curve 2\n",
    "reset()\n",
    "koch2()"
   ]
  },
  {
   "cell_type": "markdown",
   "metadata": {},
   "source": [
    "Do you see the pattern? It is difficult to see when we look at each curve separately, but we can see it a little more easily when look at how the curves are made."
   ]
  },
  {
   "cell_type": "code",
   "execution_count": null,
   "metadata": {},
   "outputs": [],
   "source": [
    "koch_recursion_animation()"
   ]
  },
  {
   "cell_type": "markdown",
   "metadata": {},
   "source": [
    "If you want to look at the animation again, run the cell above again.\n",
    "\n",
    "The pattern is easier to see when we think about each new curve being a combination of several smaller copies of the last one, put together in a specific way. This is what recursion is: using a smaller or simpler version of something to make something more complicated, and repeating that process as many times as you need to."
   ]
  },
  {
   "cell_type": "markdown",
   "metadata": {},
   "source": [
    "### Writing the code for the Koch Curve\n",
    "\n",
    "Our goal now is to write the code for a function that can make any koch curve in any size.\n",
    "\n",
    "So how can we write the code for the koch curve? Our process is going to be writing code for the first few koch curves, and then seeing if there's a pattern in the code that we can use to make a general function that can draw any curve. Let's start by trying to write the code for the first curve, which is just a line. Our general function has to make a Koch curve of any size, so we'll make sure that our function that draws this line can draw a line of any size. We can do that like this:"
   ]
  },
  {
   "cell_type": "code",
   "execution_count": null,
   "metadata": {},
   "outputs": [],
   "source": [
    "def koch_curve_0(size): fd(size)"
   ]
  },
  {
   "cell_type": "markdown",
   "metadata": {},
   "source": [
    "Let's see if this code works. We'll just try making a line of size 300."
   ]
  },
  {
   "cell_type": "code",
   "execution_count": null,
   "metadata": {},
   "outputs": [],
   "source": [
    "reset()\n",
    "koch_curve_0(300)"
   ]
  },
  {
   "cell_type": "markdown",
   "metadata": {},
   "source": [
    "Now we're going to write the code that makes the second koch curve, which looks like a spike. To write the code for it, we'll describe the process of how to do it using words, and then turn that process into code. Let's look at the process again and describe it."
   ]
  },
  {
   "cell_type": "code",
   "execution_count": null,
   "metadata": {},
   "outputs": [],
   "source": [
    "koch_recursion_animation(0, 1)"
   ]
  },
  {
   "cell_type": "markdown",
   "metadata": {},
   "source": [
    "So we took these steps to make the second Koch Curve:\n",
    "\n",
    "1. We made one copy of the first curve, shrunk it to 1/3 the size, and placed it into position.\n",
    "2. We made another copy of the first curve, shrunk it to 1/3 the size, tilted it 60 degrees, and placed it into position.\n",
    "3. We made a third copy, shrunk it to 1/3 the size, tilted it 60 degrees the other way, and placed it into position.\n",
    "4. We made a fourth copy and placed it into position.\n",
    "\n",
    "Now let's start making the code for it. We'll make the code, then put it in a function. For now, we'll set the size to 300, but later, we'll put the code in a function that can make the curve in any size we choose."
   ]
  },
  {
   "cell_type": "code",
   "execution_count": null,
   "metadata": {},
   "outputs": [],
   "source": [
    "size = 300"
   ]
  },
  {
   "cell_type": "markdown",
   "metadata": {},
   "source": [
    "In our process, the first thing we did was make a copy of the first curve, but one that was only 1/3 of the overall size. Let's reset our canvas, then use the koch_curve_0 function to make a line that's 1/3 the size."
   ]
  },
  {
   "cell_type": "code",
   "execution_count": null,
   "metadata": {},
   "outputs": [],
   "source": [
    "reset()\n",
    "koch_curve_0(size/3)"
   ]
  },
  {
   "cell_type": "markdown",
   "metadata": {},
   "source": [
    "Now our next copy has to be tilted 60 degrees up. Up is to the left of the turtle, so we can tilt the turtle 60 degrees left so it can be ready to draw the next copy."
   ]
  },
  {
   "cell_type": "code",
   "execution_count": null,
   "metadata": {},
   "outputs": [],
   "source": [
    "lt(60)"
   ]
  },
  {
   "cell_type": "markdown",
   "metadata": {},
   "source": [
    "Now we can draw our next copy, which, like our first copy, will be only 1/3 of the overall size."
   ]
  },
  {
   "cell_type": "code",
   "execution_count": null,
   "metadata": {},
   "outputs": [],
   "source": [
    "koch_curve_0(size/3)"
   ]
  },
  {
   "cell_type": "markdown",
   "metadata": {},
   "source": [
    "Our next copy has to be tilted down 60 degrees. Down is to the right of the turtle. Since, currently, our turtle is tilted left 60 degrees, we have to tilt it 60 degrees right to cancel that out, then 60 degrees more so it points downwards. This means tilting it to the right a total of 120 degrees."
   ]
  },
  {
   "cell_type": "code",
   "execution_count": null,
   "metadata": {},
   "outputs": [],
   "source": [
    "rt(120)"
   ]
  },
  {
   "cell_type": "markdown",
   "metadata": {},
   "source": [
    "Now we are ready to draw our third copy, which, like the others, is one third the size."
   ]
  },
  {
   "cell_type": "code",
   "execution_count": null,
   "metadata": {},
   "outputs": [],
   "source": [
    "koch_curve_0(size/3)"
   ]
  },
  {
   "cell_type": "markdown",
   "metadata": {},
   "source": [
    "Our last copy isn't tilted at all, so before we draw it we have to make sure the turtle isn't tilted. Right now the turtle is tilted 60 degrees right, so to cancel that out we tilt it 60 degrees left."
   ]
  },
  {
   "cell_type": "code",
   "execution_count": null,
   "metadata": {},
   "outputs": [],
   "source": [
    "lt(60)"
   ]
  },
  {
   "cell_type": "markdown",
   "metadata": {},
   "source": [
    "And finally, we draw our last copy."
   ]
  },
  {
   "cell_type": "code",
   "execution_count": null,
   "metadata": {},
   "outputs": [],
   "source": [
    "koch_curve_0(size/3)"
   ]
  },
  {
   "cell_type": "markdown",
   "metadata": {},
   "source": [
    "Now let's put all our code in a function. This function has to make this curve in any size, so we make sure to accept size as an argument."
   ]
  },
  {
   "cell_type": "code",
   "execution_count": null,
   "metadata": {},
   "outputs": [],
   "source": [
    "def koch_curve_1(size):\n",
    "    koch_curve_0(size/3)\n",
    "    lt(60)\n",
    "    koch_curve_0(size/3)\n",
    "    rt(120)\n",
    "    koch_curve_0(size/3)\n",
    "    lt(60)\n",
    "    koch_curve_0(size/3)"
   ]
  },
  {
   "cell_type": "markdown",
   "metadata": {},
   "source": [
    "Let's test it out by resetting our canvas and drawing a spike of a different size! Let's try a spike of size 100, which should be much smaller than the one we just finished drawing."
   ]
  },
  {
   "cell_type": "code",
   "execution_count": null,
   "metadata": {},
   "outputs": [],
   "source": [
    "reset()\n",
    "koch_curve_1(100)"
   ]
  },
  {
   "cell_type": "markdown",
   "metadata": {},
   "source": [
    "Great! Our function draws the second koch curve (the spike) and draws it in any size.\n",
    "\n",
    "Now let's make another function for the third koch curve, which is made with four copies of the second one. Let's watch the animation making the third one from the second one so we know the process."
   ]
  },
  {
   "cell_type": "code",
   "execution_count": null,
   "metadata": {},
   "outputs": [],
   "source": [
    "koch_recursion_animation(1, 2)"
   ]
  },
  {
   "cell_type": "markdown",
   "metadata": {},
   "source": [
    "Let's write down the steps.\n",
    "\n",
    "1. We made one copy of the second curve, shrunk it to 1/3 the size, and placed it into position.\n",
    "2. We made another copy of the second curve, shrunk it to 1/3 the size, tilted it 60 degrees, and placed it into position.\n",
    "3. We made a third copy, shrunk it to 1/3 the size, tilted it 60 degrees the other way, and placed it into position.\n",
    "4. We made a fourth copy and placed it into position.\n",
    "\n",
    "It looks very similar to the process for making the second curve! Because it looks so similar, let's take our code for the function that makes the second curve, and modify that code so it creates the third curve instead. We'll start by renaming the function."
   ]
  },
  {
   "cell_type": "code",
   "execution_count": null,
   "metadata": {},
   "outputs": [],
   "source": [
    "def koch_curve_2(size):\n",
    "    koch_curve_0(size/3)\n",
    "    lt(60)\n",
    "    koch_curve_0(size/3)\n",
    "    rt(120)\n",
    "    koch_curve_0(size/3)\n",
    "    lt(60)\n",
    "    koch_curve_0(size/3)"
   ]
  },
  {
   "cell_type": "markdown",
   "metadata": {},
   "source": [
    "Now, instead of creating four copies of koch_curve_0 (the first curve), let's make copies of koch_curve_1."
   ]
  },
  {
   "cell_type": "code",
   "execution_count": null,
   "metadata": {},
   "outputs": [],
   "source": [
    "def koch_curve_2(size):\n",
    "    koch_curve_1(size/3)\n",
    "    lt(60)\n",
    "    koch_curve_1(size/3)\n",
    "    rt(120)\n",
    "    koch_curve_1(size/3)\n",
    "    lt(60)\n",
    "    koch_curve_1(size/3)"
   ]
  },
  {
   "cell_type": "markdown",
   "metadata": {},
   "source": [
    "That's all we need to do! Now the code does every step of the process we listed above for making the third koch curve. Let's test it out and see if it works."
   ]
  },
  {
   "cell_type": "code",
   "execution_count": null,
   "metadata": {},
   "outputs": [],
   "source": [
    "reset()\n",
    "koch_curve_2(300)"
   ]
  },
  {
   "cell_type": "markdown",
   "metadata": {},
   "source": [
    "It works! Now that we have made three functions, we can start to see a pattern. The first function was just moving forward, and the second two involved drawing four copies of the previous koch curve and rotating the turtle in between. This means that we have 2 situations we need to deal with in our code:\n",
    "\n",
    "1. Drawing the first koch curve.\n",
    "2. Drawing all the other koch curves.\n",
    "\n",
    "Let's make a function that can draw any koch curve if we tell it the size of the curve and which curve we want to draw. Since the function also needs to do different things depending on the number of the curve we want to draw, we will also put a if/else statement in the function. We'll just put \"NotImplemented\" under each statement, which is what we put whenever we haven't made the code yet."
   ]
  },
  {
   "cell_type": "code",
   "execution_count": null,
   "metadata": {},
   "outputs": [],
   "source": [
    "def koch_curve(number, size):\n",
    "    if number == 0:\n",
    "        NotImplemented\n",
    "    else:\n",
    "        NotImplemented"
   ]
  },
  {
   "cell_type": "markdown",
   "metadata": {},
   "source": [
    "Now, what did we do when we have to draw our first koch curve? We just drew a line of the size we were given."
   ]
  },
  {
   "cell_type": "code",
   "execution_count": null,
   "metadata": {},
   "outputs": [],
   "source": [
    "def koch_curve(number, size):\n",
    "    if number == 0:\n",
    "        fd(size)\n",
    "    else:\n",
    "        NotImplemented"
   ]
  },
  {
   "cell_type": "markdown",
   "metadata": {},
   "source": [
    "Otherwise, we made four copies of the previous curve, and all of them were 1/3 of the size. Let's start by copying this code from our function koch_curve_2."
   ]
  },
  {
   "cell_type": "code",
   "execution_count": null,
   "metadata": {},
   "outputs": [],
   "source": [
    "def koch_curve(number, size):\n",
    "    if number == 0:\n",
    "        fd(size)\n",
    "    else:\n",
    "        koch_curve_1(size/3)\n",
    "        lt(60)\n",
    "        koch_curve_1(size/3)\n",
    "        rt(120)\n",
    "        koch_curve_1(size/3)\n",
    "        lt(60)\n",
    "        koch_curve_1(size/3)"
   ]
  },
  {
   "cell_type": "markdown",
   "metadata": {},
   "source": [
    "This code draws four copies of the first koch curve, but what we need it do to is to draw four copies of the previous curve. Instead of calling koch_curve_1(size/3), we can call the previous curve by calling koch_curve(number-1, size/3)."
   ]
  },
  {
   "cell_type": "code",
   "execution_count": null,
   "metadata": {},
   "outputs": [],
   "source": [
    "def koch_curve(number, size):\n",
    "    if number == 0:\n",
    "        fd(size)\n",
    "    else:\n",
    "        koch_curve(number-1, size/3)\n",
    "        lt(60)\n",
    "        koch_curve(number-1, size/3)\n",
    "        rt(120)\n",
    "        koch_curve(number-1, size/3)\n",
    "        lt(60)\n",
    "        koch_curve(number-1, size/3)"
   ]
  },
  {
   "cell_type": "markdown",
   "metadata": {},
   "source": [
    "That should do the trick! Let's see if our function works."
   ]
  },
  {
   "cell_type": "code",
   "execution_count": null,
   "metadata": {},
   "outputs": [],
   "source": [
    "reset()\n",
    "koch_curve(0, 300)\n",
    "reset()\n",
    "koch_curve(1, 300)\n",
    "reset()\n",
    "koch_curve(2, 300)\n",
    "reset()\n",
    "koch_curve(3, 300)"
   ]
  },
  {
   "cell_type": "markdown",
   "metadata": {},
   "source": [
    "It works! We've successfully made a function that draws any koch curve we want to.\n",
    "\n",
    "## Recursion in Coding\n",
    "\n",
    "Now let's think about the code we just wrote. What makes it recursive? Well, the definition of recursion is \"when an idea or procedure contains itself.\" The function koch_curve is recursive because within the code for the function, it calls itself.\n",
    "\n",
    "There are two very important details in HOW it calls itself that make recursion work:\n",
    "\n",
    "1. It always calls a version of itself that does less than the overall version.\n",
    "\n",
    "That fact is very important, because if it called a version of itself that did more work (like koch_curve(number+1, size/3)), then that one would call an version that does even more (koch_curve(number+2, size/9)), and then to number+3, then +4 and so on without ever ending. This would mean the function would never end. Just to try it, let's change the code to do this and see what happens."
   ]
  },
  {
   "cell_type": "code",
   "execution_count": null,
   "metadata": {},
   "outputs": [],
   "source": [
    "def koch_curve_up(number, size):\n",
    "    if number == 0:\n",
    "        fd(size)\n",
    "    else:\n",
    "        koch_curve_up(number+1, size/3)\n",
    "        lt(60)\n",
    "        koch_curve_up(number+1, size/3)\n",
    "        rt(120)\n",
    "        koch_curve_up(number+1, size/3)\n",
    "        lt(60)\n",
    "        koch_curve_up(number+1, size/3)\n",
    "        \n",
    "reset()\n",
    "koch_curve_up(3, 300)"
   ]
  },
  {
   "cell_type": "markdown",
   "metadata": {},
   "source": [
    "It gives us a recursion error, because the function never stops calling itself.\n",
    "\n",
    "2. There is a situation where it does not call itself, and we always come across this situation.\n",
    "\n",
    "When number is 0, koch_curve does NOT call itself. This is important. So understand why, let's think about what would happen if we didn't have this. In that situation, when we get number == 0, we would call koch_curve(-1, size/3). That would then call koch_curve(-2, size/9), then koch_curve(-3, size/27), and so on. It would never end, so the function wouldn't do anything because it would never end.\n",
    "\n",
    "Let's modify our function to do this and see what would happen."
   ]
  },
  {
   "cell_type": "code",
   "execution_count": null,
   "metadata": {},
   "outputs": [],
   "source": [
    "def koch_curve_down(number, size):\n",
    "    koch_curve_down(number-1, size/3)\n",
    "    lt(60)\n",
    "    koch_curve_down(number-1, size/3)\n",
    "    rt(120)\n",
    "    koch_curve_down(number-1, size/3)\n",
    "    lt(60)\n",
    "    koch_curve_down(number-1, size/3)\n",
    "        \n",
    "reset()\n",
    "koch_curve_down(3, 300)"
   ]
  },
  {
   "cell_type": "markdown",
   "metadata": {},
   "source": [
    "Once again, the function never stops calling itself, so we get a recursion error.\n",
    "\n",
    "### Exercise: Write addition using recursion\n",
    "\n",
    "Write a function that adds two whole numbers together using recursion by adding 1 to the first number a bunch of times. To help you out, I've already started the function."
   ]
  },
  {
   "cell_type": "code",
   "execution_count": null,
   "metadata": {},
   "outputs": [],
   "source": [
    "def add_nums(x, y):\n",
    "    if y == 0:\n",
    "        return x\n",
    "    else:\n",
    "        NotImplemented\n",
    "        #FIXME: Put your code here, then remove the NotImplemented above when you're done.\n"
   ]
  },
  {
   "cell_type": "markdown",
   "metadata": {},
   "source": [
    "Here's some tests so you can test your code. The first one should give you 2, the next one should give you 3, and the last one should give you 5."
   ]
  },
  {
   "cell_type": "code",
   "execution_count": null,
   "metadata": {},
   "outputs": [],
   "source": [
    "add_nums(2, 0)"
   ]
  },
  {
   "cell_type": "code",
   "execution_count": null,
   "metadata": {},
   "outputs": [],
   "source": [
    "add_nums(2, 1)"
   ]
  },
  {
   "cell_type": "code",
   "execution_count": null,
   "metadata": {},
   "outputs": [],
   "source": [
    "add_nums(2, 3)"
   ]
  },
  {
   "cell_type": "markdown",
   "metadata": {},
   "source": [
    "#### Solution\n",
    "\n",
    "We need to call add_nums in our code somewhere, and we need to add 1, so our code has to have a +1 somewhere. The situation where add_nums does not call itself is when y == 0. To make sure we come across this situation eventually, We can do this by subtracting 1 from y over and over. To do that, we can call add_nums(x, y-1), which will call add_nums(x, y-2), which will call add_nums(x, y-3), and so on until we eventually call add_nums(x, y-3). the code add_nums(x, y-1) will give us $x + y - 1$. To make sure we get $x + y$ instead, which is what we want, we can do add_nums(x, y-1) + 1. The + 1 cancels the -1 in $x + y - 1$. It is also the +1 we need in our code somewhere."
   ]
  },
  {
   "cell_type": "code",
   "execution_count": null,
   "metadata": {},
   "outputs": [],
   "source": [
    "def add_nums(x, y):\n",
    "    if y == 0:\n",
    "        return x\n",
    "    else:\n",
    "        return add_nums(x, y-1) + 1\n",
    "    "
   ]
  },
  {
   "cell_type": "code",
   "execution_count": null,
   "metadata": {},
   "outputs": [],
   "source": [
    "add_nums(2, 0)"
   ]
  },
  {
   "cell_type": "code",
   "execution_count": null,
   "metadata": {},
   "outputs": [],
   "source": [
    "add_nums(2, 1)"
   ]
  },
  {
   "cell_type": "code",
   "execution_count": null,
   "metadata": {},
   "outputs": [],
   "source": [
    "add_nums(2, 3)"
   ]
  },
  {
   "cell_type": "markdown",
   "metadata": {},
   "source": [
    "### Exercise: write multiplication using recursion\n",
    "\n",
    "Write a function which multiplies two whole numbers by adding one repeatedly. I have written a little bit of the function below."
   ]
  },
  {
   "cell_type": "code",
   "execution_count": null,
   "metadata": {},
   "outputs": [],
   "source": [
    "def mul_nums(x, y):\n",
    "    NotImplemented\n",
    "    #FIXME: Put your code here, then remove the NotImplemented above when you're done.\n"
   ]
  },
  {
   "cell_type": "markdown",
   "metadata": {},
   "source": [
    "Here's some more tests to see if your code works. The first one should give you 2, the next one should give you 4, and the last one should give you 8."
   ]
  },
  {
   "cell_type": "code",
   "execution_count": null,
   "metadata": {},
   "outputs": [],
   "source": [
    "mul_nums(2, 1)"
   ]
  },
  {
   "cell_type": "code",
   "execution_count": null,
   "metadata": {},
   "outputs": [],
   "source": [
    "mul_nums(2, 2)"
   ]
  },
  {
   "cell_type": "code",
   "execution_count": null,
   "metadata": {},
   "outputs": [],
   "source": [
    "mul_nums(2, 4)"
   ]
  },
  {
   "cell_type": "markdown",
   "metadata": {},
   "source": [
    "#### Solution\n",
    "\n",
    "First, let's think of how we're going to keep adding one number to itself. We can either add x to itself y times, or add y to itself x times. Either one works, but let's go with the first one, because it's most similar to what we did last time to make add_nums, when we added 1 to x a total of y times. Because it's similar, let's copy our code for add_nums and modify it."
   ]
  },
  {
   "cell_type": "code",
   "execution_count": null,
   "metadata": {},
   "outputs": [],
   "source": [
    "def mul_nums(x, y):\n",
    "    if y == 0:\n",
    "        return x\n",
    "    else:\n",
    "        return add_nums(x, y-1) + 1\n",
    "    "
   ]
  },
  {
   "cell_type": "markdown",
   "metadata": {},
   "source": [
    "Now, when y is 0, we don't return x. Anything multiplied by 0 is 0, so when we call mul_nums(x, 0), we have to return 0."
   ]
  },
  {
   "cell_type": "code",
   "execution_count": null,
   "metadata": {},
   "outputs": [],
   "source": [
    "def mul_nums(x, y):\n",
    "    if y == 0:\n",
    "        return 0\n",
    "    else:\n",
    "        return add_nums(x, y-1) + 1\n",
    "    "
   ]
  },
  {
   "cell_type": "markdown",
   "metadata": {},
   "source": [
    "Now, we have to make sure our code comes across the situation where y is 0. We can do this by subtracting 1 from y over and over. To do that, we can call mul_nums(x, y-1). Just like when we called add_nums(x, y-1), we will eventually call mul_nums(x, 0). The code mul_nums(x, y-1) gives us $x\\times(y-1)$, which is equal to $x\\times y-x$. To get $x\\times y$, we have to add x to cancel out the $-x$. This means we have to do mul_nums(x, y-1) + x."
   ]
  },
  {
   "cell_type": "code",
   "execution_count": null,
   "metadata": {},
   "outputs": [],
   "source": [
    "def mul_nums(x, y):\n",
    "    if y == 0:\n",
    "        return 0\n",
    "    else:\n",
    "        return mul_nums(x, y-1) + x\n",
    "    "
   ]
  },
  {
   "cell_type": "code",
   "execution_count": null,
   "metadata": {},
   "outputs": [],
   "source": [
    "mul_nums(2, 1)"
   ]
  },
  {
   "cell_type": "code",
   "execution_count": null,
   "metadata": {},
   "outputs": [],
   "source": [
    "mul_nums(2, 2)"
   ]
  },
  {
   "cell_type": "code",
   "execution_count": null,
   "metadata": {},
   "outputs": [],
   "source": [
    "mul_nums(2, 4)"
   ]
  },
  {
   "cell_type": "markdown",
   "metadata": {},
   "source": [
    "## Minkowski Sausage\n",
    "\n",
    "The Minkowski sausage is another curve that is very similar to the Koch curve, because it is made with recursion. Watch the animation to learn how it's made."
   ]
  },
  {
   "cell_type": "code",
   "execution_count": null,
   "metadata": {},
   "outputs": [],
   "source": [
    "minkowski_recursion_animation()"
   ]
  },
  {
   "cell_type": "markdown",
   "metadata": {},
   "source": [
    "### Exercise: Make a function that draws the minkowski sausage"
   ]
  },
  {
   "cell_type": "code",
   "execution_count": null,
   "metadata": {},
   "outputs": [],
   "source": [
    "def minkowski_sausage(number, size):\n",
    "    NotImplemented\n",
    "    #FIXME: Put your code here, then remove the NotImplemented above when you're done.\n"
   ]
  },
  {
   "cell_type": "markdown",
   "metadata": {},
   "source": [
    "To observe an animation for how to draw it, set what you want the starting point to be, then the ending point, then run the cell below."
   ]
  },
  {
   "cell_type": "code",
   "execution_count": null,
   "metadata": {},
   "outputs": [],
   "source": [
    "start_step = 3\n",
    "end_step = 4\n",
    "minkowski_recursion_animation(start_step, end_step)"
   ]
  },
  {
   "cell_type": "markdown",
   "metadata": {},
   "source": [
    "If your end step is 3 or more, the animation will be slow to start, so give it some time.\n",
    "\n",
    "### Solution\n",
    "\n",
    "We'll make the minkowski sausage function the same way that we made the koch curve function.\n",
    "\n",
    "1. Make a function that creates a straight line.\n",
    "2. For the first few curves, observe how the curve is made, then make a function that draws a specific curve in any size.\n",
    "3. Notice the pattern, and make a function that draws any curve in any size.\n",
    "\n",
    "First, we'll make the function that makes a straight line of a specific size."
   ]
  },
  {
   "cell_type": "code",
   "execution_count": null,
   "metadata": {},
   "outputs": [],
   "source": [
    "def minkowski_sausage_0(size):\n",
    "    fd(size)"
   ]
  },
  {
   "cell_type": "markdown",
   "metadata": {},
   "source": [
    "Now let's examine how the second curve is created."
   ]
  },
  {
   "cell_type": "code",
   "execution_count": null,
   "metadata": {},
   "outputs": [],
   "source": [
    "start_step = 0\n",
    "end_step = 1\n",
    "minkowski_recursion_animation(start_step, end_step)"
   ]
  },
  {
   "cell_type": "markdown",
   "metadata": {},
   "source": [
    "The process seems to be these steps:\n",
    "\n",
    "1. Make one copy of the first curve that's 1/4 the size of the original.\n",
    "2. Make a second copy of the first curve, also 1/4 the size, tilted 90 degrees up.\n",
    "3. Make a third copy of the first curve that isn't tilted.\n",
    "4. Make a fourth copy of the first curve, tilted 90 degrees down.\n",
    "5. Make a fifth copy, also tilted down.\n",
    "6. Make a sixth copy, not tilted.\n",
    "7. Make a seventh copy, tilted up.\n",
    "8. Make an eighth copy, not tilted.\n",
    "\n",
    "Let's make a function using this process."
   ]
  },
  {
   "cell_type": "code",
   "execution_count": null,
   "metadata": {},
   "outputs": [],
   "source": [
    "def minkowski_sausage_1(size):\n",
    "    minkowski_sausage_0(size/4)\n",
    "    lt(90)\n",
    "    minkowski_sausage_0(size/4)\n",
    "    rt(90)\n",
    "    minkowski_sausage_0(size/4)\n",
    "    rt(90)\n",
    "    minkowski_sausage_0(size/4)\n",
    "    minkowski_sausage_0(size/4)\n",
    "    lt(90)\n",
    "    minkowski_sausage_0(size/4)\n",
    "    lt(90)\n",
    "    minkowski_sausage_0(size/4)\n",
    "    rt(90)\n",
    "    minkowski_sausage_0(size/4)"
   ]
  },
  {
   "cell_type": "markdown",
   "metadata": {},
   "source": [
    "Let's try it out."
   ]
  },
  {
   "cell_type": "code",
   "execution_count": null,
   "metadata": {},
   "outputs": [],
   "source": [
    "reset()\n",
    "minkowski_sausage_1(200)"
   ]
  },
  {
   "cell_type": "markdown",
   "metadata": {},
   "source": [
    "Just like the koch curve, the process to make the third one is the same as the process to make the second one. You can watch the animation and write out the process to see for yourself, but we are going straight to writing the general function."
   ]
  },
  {
   "cell_type": "code",
   "execution_count": null,
   "metadata": {},
   "outputs": [],
   "source": [
    "def minkowski_sausage(number, size):\n",
    "    NotImplemented"
   ]
  },
  {
   "cell_type": "markdown",
   "metadata": {},
   "source": [
    "We have two different situations: when we are making the first curve, and when we are making the other curves."
   ]
  },
  {
   "cell_type": "code",
   "execution_count": null,
   "metadata": {},
   "outputs": [],
   "source": [
    "def minkowski_sausage(number, size):\n",
    "    if number == 0:\n",
    "        NotImplemented\n",
    "    else:\n",
    "        NotImplemented"
   ]
  },
  {
   "cell_type": "markdown",
   "metadata": {},
   "source": [
    "The first curve is just a line of the given size."
   ]
  },
  {
   "cell_type": "code",
   "execution_count": null,
   "metadata": {},
   "outputs": [],
   "source": [
    "def minkowski_sausage(number, size):\n",
    "    if number == 0:\n",
    "        fd(size)\n",
    "    else:\n",
    "        NotImplemented"
   ]
  },
  {
   "cell_type": "markdown",
   "metadata": {},
   "source": [
    "For the other case, we'll start by copying our code for minkowski_sausage_1."
   ]
  },
  {
   "cell_type": "code",
   "execution_count": null,
   "metadata": {},
   "outputs": [],
   "source": [
    "def minkowski_sausage(number, size):\n",
    "    if number == 0:\n",
    "        fd(size)\n",
    "    else:\n",
    "        minkowski_sausage_0(size/4)\n",
    "        lt(90)\n",
    "        minkowski_sausage_0(size/4)\n",
    "        rt(90)\n",
    "        minkowski_sausage_0(size/4)\n",
    "        rt(90)\n",
    "        minkowski_sausage_0(size/4)\n",
    "        minkowski_sausage_0(size/4)\n",
    "        lt(90)\n",
    "        minkowski_sausage_0(size/4)\n",
    "        lt(90)\n",
    "        minkowski_sausage_0(size/4)\n",
    "        rt(90)\n",
    "        minkowski_sausage_0(size/4)"
   ]
  },
  {
   "cell_type": "markdown",
   "metadata": {},
   "source": [
    "But we don't want to make smaller copies of the first curve, we want to make smaller copies of the previous curve. Instead of doing minkowski_sausage_0(size/4), we do minkowski_sausage(number-1, size/4)"
   ]
  },
  {
   "cell_type": "code",
   "execution_count": null,
   "metadata": {},
   "outputs": [],
   "source": [
    "def minkowski_sausage(number, size):\n",
    "    if number == 0:\n",
    "        fd(size)\n",
    "    else:\n",
    "        minkowski_sausage(number-1, size/4)\n",
    "        lt(90)\n",
    "        minkowski_sausage(number-1, size/4)\n",
    "        rt(90)\n",
    "        minkowski_sausage(number-1, size/4)\n",
    "        rt(90)\n",
    "        minkowski_sausage(number-1, size/4)\n",
    "        minkowski_sausage(number-1, size/4)\n",
    "        lt(90)\n",
    "        minkowski_sausage(number-1, size/4)\n",
    "        lt(90)\n",
    "        minkowski_sausage(number-1, size/4)\n",
    "        rt(90)\n",
    "        minkowski_sausage(number-1, size/4)"
   ]
  },
  {
   "cell_type": "markdown",
   "metadata": {},
   "source": [
    "Let's try our function out."
   ]
  },
  {
   "cell_type": "code",
   "execution_count": null,
   "metadata": {},
   "outputs": [],
   "source": [
    "reset()\n",
    "minkowski_sausage(1, 200)\n",
    "\n",
    "reset()\n",
    "pu()\n",
    "goto(-200, 0)\n",
    "pd()\n",
    "minkowski_sausage(3, 400)"
   ]
  },
  {
   "cell_type": "markdown",
   "metadata": {},
   "source": [
    "## Conclusion\n",
    "\n",
    "Recursion is a process that shows up in math and computer science a lot. Next time you're designing a function or process, think about whether you need can use a function within itself. If you can, that's usually the easiest way to write that function."
   ]
  }
 ],
 "metadata": {
  "kernelspec": {
   "display_name": "Python 3",
   "language": "python",
   "name": "python3"
  },
  "language_info": {
   "codemirror_mode": {
    "name": "ipython",
    "version": 3
   },
   "file_extension": ".py",
   "mimetype": "text/x-python",
   "name": "python",
   "nbconvert_exporter": "python",
   "pygments_lexer": "ipython3",
   "version": "3.8.5"
  },
  "toc": {
   "base_numbering": 1,
   "nav_menu": {
    "height": "103px",
    "width": "680px"
   },
   "number_sections": true,
   "sideBar": true,
   "skip_h1_title": false,
   "title_cell": "Table of Contents",
   "title_sidebar": "Contents",
   "toc_cell": false,
   "toc_position": {},
   "toc_section_display": true,
   "toc_window_display": false
  }
 },
 "nbformat": 4,
 "nbformat_minor": 4
}
